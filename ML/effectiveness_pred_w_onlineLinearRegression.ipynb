{
  "nbformat": 4,
  "nbformat_minor": 0,
  "metadata": {
    "colab": {
      "provenance": [],
      "authorship_tag": "ABX9TyOOW8YvHUN+muFH7Vw6lG6l",
      "include_colab_link": true
    },
    "kernelspec": {
      "name": "python3",
      "display_name": "Python 3"
    },
    "language_info": {
      "name": "python"
    }
  },
  "cells": [
    {
      "cell_type": "markdown",
      "metadata": {
        "id": "view-in-github",
        "colab_type": "text"
      },
      "source": [
        "<a href=\"https://colab.research.google.com/github/namita-ach/Hallothon--Haccio/blob/main/ML/effectiveness_pred_w_onlineLinearRegression.ipynb\" target=\"_parent\"><img src=\"https://colab.research.google.com/assets/colab-badge.svg\" alt=\"Open In Colab\"/></a>"
      ]
    },
    {
      "cell_type": "code",
      "execution_count": 24,
      "metadata": {
        "id": "V4Y0j1THe-yS"
      },
      "outputs": [],
      "source": [
        "import numpy as np\n",
        "import pandas as pd\n",
        "from sklearn.model_selection import train_test_split\n",
        "from sklearn.linear_model import LinearRegression\n",
        "from sklearn.metrics import mean_squared_error\n",
        "from sklearn import metrics"
      ]
    },
    {
      "cell_type": "code",
      "source": [
        "data = pd.read_csv(\"FINAL YAY.csv\")"
      ],
      "metadata": {
        "id": "y3FZZSTVfCmj"
      },
      "execution_count": null,
      "outputs": []
    },
    {
      "cell_type": "code",
      "source": [
        "x = data[['Topic','Mode of Communication']]\n",
        "y = data['Effectiveness']\n",
        "x_train, x_test, y_train, y_test = train_test_split(x, y, test_size=0.40, shuffle=True)"
      ],
      "metadata": {
        "id": "66IPxwucfEaQ"
      },
      "execution_count": 25,
      "outputs": []
    },
    {
      "cell_type": "code",
      "source": [
        "class OnlineLinearRegression:\n",
        "  def __init__(self, learning_rate=0.1):\n",
        "    self.learning_rate = learning_rate\n",
        "    self.weights = np.zeros(2)\n",
        "\n",
        "  def update(self, x, y):\n",
        "    error = y - self.predict(x)\n",
        "    self.weights += self.learning_rate * error * x\n",
        "\n",
        "  def predict(self, x):\n",
        "    return np.dot(self.weights, x)\n",
        "\n",
        "model = OnlineLinearRegression()"
      ],
      "metadata": {
        "id": "dMLhmDyBfLEu"
      },
      "execution_count": null,
      "outputs": []
    },
    {
      "cell_type": "code",
      "source": [
        "for index, row in data.iterrows():\n",
        "    x = np.array(row[['Topic','Mode of Communication']])  #Convert the features to a numpy array\n",
        "    y = row['Effectiveness']\n",
        "    model.update(x, y)"
      ],
      "metadata": {
        "id": "w57Fo_XV5mtq"
      },
      "execution_count": 16,
      "outputs": []
    },
    {
      "cell_type": "code",
      "source": [
        "y_pred = [model.predict(np.array([topic, mode])) for topic, mode in x_test.values]\n",
        "mse = mean_squared_error(y_test, y_pred)"
      ],
      "metadata": {
        "id": "WhP4uXQN6hXD"
      },
      "execution_count": 28,
      "outputs": []
    },
    {
      "cell_type": "code",
      "source": [
        "print(f\"Mean Squared Error: {mse}\") #model's mse can be reduced by using more training data- fed by students"
      ],
      "metadata": {
        "colab": {
          "base_uri": "https://localhost:8080/"
        },
        "id": "XCFJfipe67h_",
        "outputId": "540a1a47-4d0b-43b7-96cb-6a3ff1a841cb"
      },
      "execution_count": 29,
      "outputs": [
        {
          "output_type": "stream",
          "name": "stdout",
          "text": [
            "Mean Squared Error: 3.9369225927413214\n"
          ]
        }
      ]
    },
    {
      "cell_type": "code",
      "source": [
        "input_data = (3, 1) #effectiveness score = 5 (from dataset)\n",
        "input_data_np = np.asarray(input_data) #changing input into a numpy array\n",
        "input_data_re = input_data_np.reshape(1, -1)  #reshaping the array\n",
        "pred = model.predict(input_data_re[0])  #Get the first element from the reshaped array\n",
        "print(f\"The effectiveness score if you use that method for this topic is {pred}\")"
      ],
      "metadata": {
        "colab": {
          "base_uri": "https://localhost:8080/"
        },
        "id": "39C7E6AwflTw",
        "outputId": "f776678f-7688-4cc0-e550-83f2d8d8d477"
      },
      "execution_count": 17,
      "outputs": [
        {
          "output_type": "stream",
          "name": "stdout",
          "text": [
            "The effectiveness score if you use that method for this topic is 5.0\n"
          ]
        }
      ]
    }
  ]
}